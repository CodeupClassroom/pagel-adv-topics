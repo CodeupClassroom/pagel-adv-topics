{
 "cells": [
  {
   "cell_type": "markdown",
   "id": "2d60fbed",
   "metadata": {},
   "source": [
    "# Spark 101"
   ]
  },
  {
   "cell_type": "markdown",
   "id": "b9aac72f",
   "metadata": {},
   "source": [
    "All the basics! "
   ]
  },
  {
   "cell_type": "markdown",
   "id": "c9bf60ed",
   "metadata": {},
   "source": [
    "## Create Spark Session"
   ]
  },
  {
   "cell_type": "code",
   "execution_count": null,
   "id": "862d9d17",
   "metadata": {},
   "outputs": [],
   "source": [
    "#import spark for python! \n",
    "\n",
    "#create the spark session\n"
   ]
  },
  {
   "cell_type": "markdown",
   "id": "03bb87f0",
   "metadata": {},
   "source": [
    "## Dataframe Basics\n",
    " - create dataframe: `spark.createdataframe`\n",
    " - see the results: `.show`\n",
    " - look at your data: `.describe`, `.dtypes`, `printSchema`\n",
    " - select & create columns: `.select`, `col`, `expr`"
   ]
  },
  {
   "cell_type": "markdown",
   "id": "d47265e4",
   "metadata": {},
   "source": [
    "### create dataframe from a pandas dataframe"
   ]
  },
  {
   "cell_type": "code",
   "execution_count": null,
   "id": "2244a93c",
   "metadata": {},
   "outputs": [],
   "source": [
    "import pandas as pd\n",
    "import numpy as np"
   ]
  },
  {
   "cell_type": "code",
   "execution_count": null,
   "id": "44dd41fa",
   "metadata": {},
   "outputs": [],
   "source": [
    "np.random.seed(452)\n",
    "\n",
    "pandas_dataframe = pd.DataFrame(\n",
    "    dict(n=np.arange(20), group=np.random.choice(list(\"abc\"), 20))\n",
    ")\n",
    "\n",
    "pandas_dataframe.head()"
   ]
  },
  {
   "cell_type": "code",
   "execution_count": null,
   "id": "240fbb65",
   "metadata": {},
   "outputs": [],
   "source": [
    "#create spark dataframe \n"
   ]
  },
  {
   "cell_type": "markdown",
   "id": "443911b5",
   "metadata": {},
   "source": [
    "### See the results"
   ]
  },
  {
   "cell_type": "markdown",
   "id": "e5716241",
   "metadata": {},
   "source": [
    "<div class='alert alert-box alert-info'>\n",
    "<b>Note:</b> Spark is lazy and won't display info unless you tell it to\n",
    "</div>"
   ]
  },
  {
   "cell_type": "code",
   "execution_count": null,
   "id": "6d3c656d",
   "metadata": {},
   "outputs": [],
   "source": [
    "df.show()"
   ]
  },
  {
   "cell_type": "markdown",
   "id": "0bb01a78",
   "metadata": {},
   "source": [
    "### create dataframe from the pydataset"
   ]
  },
  {
   "cell_type": "code",
   "execution_count": null,
   "id": "967f1774",
   "metadata": {},
   "outputs": [],
   "source": [
    "from pydataset import data"
   ]
  },
  {
   "cell_type": "code",
   "execution_count": null,
   "id": "4eb319e6",
   "metadata": {},
   "outputs": [],
   "source": [
    "df = spark.createDataFrame(data('mpg'))\n",
    "df"
   ]
  },
  {
   "cell_type": "markdown",
   "id": "2f61b764",
   "metadata": {},
   "source": [
    "### look at your data"
   ]
  },
  {
   "cell_type": "code",
   "execution_count": null,
   "id": "4e613003",
   "metadata": {},
   "outputs": [],
   "source": [
    "df.show()"
   ]
  },
  {
   "cell_type": "code",
   "execution_count": null,
   "id": "c935cce2",
   "metadata": {},
   "outputs": [],
   "source": [
    "#describe\n"
   ]
  },
  {
   "cell_type": "code",
   "execution_count": null,
   "id": "1a0de639",
   "metadata": {},
   "outputs": [],
   "source": [
    "#describe vertical\n"
   ]
  },
  {
   "cell_type": "code",
   "execution_count": null,
   "id": "76d8c475",
   "metadata": {},
   "outputs": [],
   "source": [
    "#printSchema\n"
   ]
  },
  {
   "cell_type": "code",
   "execution_count": null,
   "id": "d30ce2b4",
   "metadata": {},
   "outputs": [],
   "source": [
    "#dtypes\n"
   ]
  },
  {
   "cell_type": "code",
   "execution_count": null,
   "id": "deb81bac",
   "metadata": {},
   "outputs": [],
   "source": [
    "#number of rows\n"
   ]
  },
  {
   "cell_type": "code",
   "execution_count": null,
   "id": "d9a12530",
   "metadata": {},
   "outputs": [],
   "source": [
    "#number of columns\n"
   ]
  },
  {
   "cell_type": "markdown",
   "id": "9711fe08",
   "metadata": {},
   "source": [
    "### select columns"
   ]
  },
  {
   "cell_type": "markdown",
   "id": "bb1fc314",
   "metadata": {},
   "source": [
    "<div class='alert alert-box alert-info'>\n",
    "<b>Reminder:</b> Spark is still lazy\n",
    "</div>"
   ]
  },
  {
   "cell_type": "code",
   "execution_count": null,
   "id": "4835752c",
   "metadata": {},
   "outputs": [],
   "source": []
  },
  {
   "cell_type": "code",
   "execution_count": null,
   "id": "bc3a2f76",
   "metadata": {},
   "outputs": [],
   "source": []
  },
  {
   "cell_type": "code",
   "execution_count": null,
   "id": "bf9b6313",
   "metadata": {},
   "outputs": [],
   "source": []
  },
  {
   "cell_type": "code",
   "execution_count": null,
   "id": "00d9d954",
   "metadata": {},
   "outputs": [],
   "source": [
    "#select two columns\n"
   ]
  },
  {
   "cell_type": "markdown",
   "id": "b157c06e",
   "metadata": {},
   "source": [
    "#### save our selected columns"
   ]
  },
  {
   "cell_type": "markdown",
   "id": "019f30cf",
   "metadata": {},
   "source": [
    "<div class='alert alert-box alert-info'>\n",
    "<b>Note:</b> You can not save a display output\n",
    "</div>"
   ]
  },
  {
   "cell_type": "code",
   "execution_count": null,
   "id": "84e02b42",
   "metadata": {},
   "outputs": [],
   "source": [
    "# df.select('model','year').show()"
   ]
  },
  {
   "cell_type": "code",
   "execution_count": null,
   "id": "28d0cf28",
   "metadata": {},
   "outputs": [],
   "source": []
  },
  {
   "cell_type": "code",
   "execution_count": null,
   "id": "5a0f3365",
   "metadata": {},
   "outputs": [],
   "source": []
  },
  {
   "cell_type": "markdown",
   "id": "02e399b7",
   "metadata": {},
   "source": [
    "### create columns\n",
    " - use basic math operators\n",
    " - change column names: `alias`"
   ]
  },
  {
   "cell_type": "code",
   "execution_count": null,
   "id": "35911678",
   "metadata": {},
   "outputs": [],
   "source": [
    "df.show(5)"
   ]
  },
  {
   "cell_type": "markdown",
   "id": "0567d4b0",
   "metadata": {},
   "source": [
    "#### half the highway mileage"
   ]
  },
  {
   "cell_type": "code",
   "execution_count": null,
   "id": "3e20f165",
   "metadata": {},
   "outputs": [],
   "source": []
  },
  {
   "cell_type": "code",
   "execution_count": null,
   "id": "9724dda0",
   "metadata": {},
   "outputs": [],
   "source": []
  },
  {
   "cell_type": "markdown",
   "id": "6538e949",
   "metadata": {},
   "source": [
    "### select & create columns: `col`"
   ]
  },
  {
   "cell_type": "code",
   "execution_count": null,
   "id": "18f75480",
   "metadata": {},
   "outputs": [],
   "source": [
    "from pyspark.sql.functions import col"
   ]
  },
  {
   "cell_type": "code",
   "execution_count": null,
   "id": "41b65add",
   "metadata": {},
   "outputs": [],
   "source": [
    "df.select(\n",
    "\n",
    ").show(5)"
   ]
  },
  {
   "cell_type": "markdown",
   "id": "692787c6",
   "metadata": {},
   "source": [
    "### select & create columns: `expr`"
   ]
  },
  {
   "cell_type": "code",
   "execution_count": null,
   "id": "eab57536",
   "metadata": {},
   "outputs": [],
   "source": [
    "from pyspark.sql.functions import expr"
   ]
  },
  {
   "cell_type": "code",
   "execution_count": null,
   "id": "012ee395",
   "metadata": {},
   "outputs": [],
   "source": [
    "df.select(\n",
    "\n",
    ").show(5)"
   ]
  },
  {
   "cell_type": "markdown",
   "id": "ad326894",
   "metadata": {},
   "source": [
    "### create column: `withColumn`"
   ]
  },
  {
   "cell_type": "code",
   "execution_count": null,
   "id": "c36f31f2",
   "metadata": {},
   "outputs": [],
   "source": []
  },
  {
   "cell_type": "markdown",
   "id": "bcaf2486",
   "metadata": {},
   "source": [
    "## Transforming columns"
   ]
  },
  {
   "cell_type": "code",
   "execution_count": null,
   "id": "411f0344",
   "metadata": {},
   "outputs": [],
   "source": []
  },
  {
   "cell_type": "markdown",
   "id": "6ef5c1ed",
   "metadata": {},
   "source": [
    "### built-in functions - math"
   ]
  },
  {
   "cell_type": "code",
   "execution_count": null,
   "id": "de955cae",
   "metadata": {},
   "outputs": [],
   "source": [
    "from pyspark.sql.functions import min, max, sum, count, mean, avg"
   ]
  },
  {
   "cell_type": "code",
   "execution_count": null,
   "id": "8846ec82",
   "metadata": {},
   "outputs": [],
   "source": [
    "#use min, max, and calculate average highway mileage\n",
    "df.select(\n",
    "\n",
    ").show(5)"
   ]
  },
  {
   "cell_type": "markdown",
   "id": "e9d181f0",
   "metadata": {},
   "source": [
    "### built-in functions - strings\n",
    "- `concat`: to concatenate strings\n",
    "- `lit`: creates literal value of character"
   ]
  },
  {
   "cell_type": "code",
   "execution_count": null,
   "id": "8af32aa2",
   "metadata": {},
   "outputs": [],
   "source": [
    "from pyspark.sql.functions import concat, lit"
   ]
  },
  {
   "cell_type": "code",
   "execution_count": null,
   "id": "ee0618af",
   "metadata": {},
   "outputs": [],
   "source": [
    "#combine manufacturer and model together\n",
    "df.select(\n",
    "\n",
    ").show(5)"
   ]
  },
  {
   "cell_type": "code",
   "execution_count": null,
   "id": "71e7f031",
   "metadata": {},
   "outputs": [],
   "source": [
    "df.select(\n",
    "\n",
    ").show(5)"
   ]
  },
  {
   "cell_type": "code",
   "execution_count": null,
   "id": "d7f32a34",
   "metadata": {},
   "outputs": [],
   "source": [
    "#combine city and highway together\n",
    "df.select(\n",
    "\n",
    ").show(5)"
   ]
  },
  {
   "cell_type": "markdown",
   "id": "94f63b83",
   "metadata": {},
   "source": [
    "### Regex! "
   ]
  },
  {
   "cell_type": "markdown",
   "id": "187bd9ad",
   "metadata": {},
   "source": [
    "- `regexp_extract`: use regex to extract data\n",
    "- `regexp_replace`: use regex to replace data"
   ]
  },
  {
   "cell_type": "code",
   "execution_count": null,
   "id": "ca9d0fe4",
   "metadata": {},
   "outputs": [],
   "source": [
    "from pyspark.sql.functions import regexp_extract, regexp_replace"
   ]
  },
  {
   "cell_type": "code",
   "execution_count": null,
   "id": "5b6a28ac",
   "metadata": {},
   "outputs": [],
   "source": [
    "textdf = spark.createDataFrame(\n",
    "    pd.DataFrame(\n",
    "        {\n",
    "            \"address\": [\n",
    "                \"600 Navarro St ste 600, San Antonio, TX 78205\",\n",
    "                \"3130 Broadway St, San Antonio, TX 78209\",\n",
    "                \"303 Pearl Pkwy, San Antonio, TX 78215\",\n",
    "                \"1255 SW Loop 410!!!!, San - Antonio, TX @78227@\",\n",
    "            ]\n",
    "        }\n",
    "    )\n",
    ")\n",
    "\n",
    "textdf.show(truncate=False)"
   ]
  },
  {
   "cell_type": "code",
   "execution_count": null,
   "id": "b3063034",
   "metadata": {},
   "outputs": [],
   "source": [
    "textdf.select(\n",
    "\n",
    ").show()"
   ]
  },
  {
   "cell_type": "markdown",
   "id": "0a3d7207",
   "metadata": {},
   "source": [
    "### Filter and Where"
   ]
  },
  {
   "cell_type": "code",
   "execution_count": null,
   "id": "d1b67619",
   "metadata": {},
   "outputs": [],
   "source": [
    "df = spark.createDataFrame(data('mpg'))\n",
    "df"
   ]
  },
  {
   "cell_type": "code",
   "execution_count": null,
   "id": "7387beed",
   "metadata": {},
   "outputs": [],
   "source": [
    "df.show(5)"
   ]
  },
  {
   "cell_type": "code",
   "execution_count": null,
   "id": "e297ed82",
   "metadata": {},
   "outputs": [],
   "source": []
  },
  {
   "cell_type": "markdown",
   "id": "4b5e8f8d",
   "metadata": {},
   "source": [
    "### When and Otherwise"
   ]
  },
  {
   "cell_type": "code",
   "execution_count": null,
   "id": "7d59a9ec",
   "metadata": {},
   "outputs": [],
   "source": [
    "from pyspark.sql.functions import when"
   ]
  },
  {
   "cell_type": "code",
   "execution_count": null,
   "id": "1bc4856a",
   "metadata": {},
   "outputs": [],
   "source": [
    "df.select(\n",
    "\n",
    ").show(5)"
   ]
  },
  {
   "cell_type": "markdown",
   "id": "38bf6d2b",
   "metadata": {},
   "source": [
    "### sorting and ordering"
   ]
  },
  {
   "cell_type": "code",
   "execution_count": null,
   "id": "46f1c061",
   "metadata": {},
   "outputs": [],
   "source": []
  },
  {
   "cell_type": "code",
   "execution_count": null,
   "id": "628ebe04",
   "metadata": {},
   "outputs": [],
   "source": []
  },
  {
   "cell_type": "code",
   "execution_count": null,
   "id": "16d81372",
   "metadata": {},
   "outputs": [],
   "source": []
  },
  {
   "cell_type": "markdown",
   "id": "d13d22a8",
   "metadata": {},
   "source": [
    "### Grouping and Aggregating"
   ]
  },
  {
   "cell_type": "code",
   "execution_count": null,
   "id": "85dbeea4",
   "metadata": {},
   "outputs": [],
   "source": [
    "#groupby/groupBy\n"
   ]
  },
  {
   "cell_type": "code",
   "execution_count": null,
   "id": "2b8a37d6",
   "metadata": {},
   "outputs": [],
   "source": [
    "#rollup\n"
   ]
  },
  {
   "cell_type": "markdown",
   "id": "7db2320c",
   "metadata": {},
   "source": [
    "### Crosstabs and Pivot Tables"
   ]
  },
  {
   "cell_type": "code",
   "execution_count": null,
   "id": "35825907",
   "metadata": {},
   "outputs": [],
   "source": [
    "#crosstab\n"
   ]
  },
  {
   "cell_type": "code",
   "execution_count": null,
   "id": "34ad0409",
   "metadata": {},
   "outputs": [],
   "source": [
    "#groupby and pivot\n"
   ]
  },
  {
   "cell_type": "markdown",
   "id": "a378581e",
   "metadata": {},
   "source": [
    "### Handling Missing Data"
   ]
  },
  {
   "cell_type": "markdown",
   "id": "b80e3a44",
   "metadata": {},
   "source": [
    "- `.na.fill`: to replace missing values with a specified value\n",
    "- `.na.drop`: to drop rows containing missing values"
   ]
  },
  {
   "cell_type": "code",
   "execution_count": null,
   "id": "fcce7829",
   "metadata": {},
   "outputs": [],
   "source": [
    "df = spark.createDataFrame(\n",
    "    pd.DataFrame(\n",
    "        {\"x\": [1, 2, np.nan, 4, 5, np.nan], \"y\": [np.nan, 0, 0, 3, 1, np.nan]}\n",
    "    )\n",
    ")\n",
    "df.show()"
   ]
  },
  {
   "cell_type": "code",
   "execution_count": null,
   "id": "a07a946c",
   "metadata": {},
   "outputs": [],
   "source": []
  },
  {
   "cell_type": "code",
   "execution_count": null,
   "id": "ea70e300",
   "metadata": {},
   "outputs": [],
   "source": []
  },
  {
   "cell_type": "markdown",
   "id": "2ecd9a30",
   "metadata": {},
   "source": [
    "### More Dataframe Manipulation Examples"
   ]
  },
  {
   "cell_type": "code",
   "execution_count": null,
   "id": "3d050437",
   "metadata": {},
   "outputs": [],
   "source": [
    "from vega_datasets import data\n",
    "\n",
    "weather = data.seattle_weather().assign(date=lambda df: df.date.astype(str))\n",
    "df = spark.createDataFrame(weather)\n",
    "df.show(6)"
   ]
  },
  {
   "cell_type": "markdown",
   "id": "00f8f3b1",
   "metadata": {},
   "source": [
    "#### shape of df"
   ]
  },
  {
   "cell_type": "code",
   "execution_count": null,
   "id": "72b90dc5",
   "metadata": {},
   "outputs": [],
   "source": []
  },
  {
   "cell_type": "markdown",
   "id": "c4c20802",
   "metadata": {},
   "source": [
    "#### start and end date"
   ]
  },
  {
   "cell_type": "code",
   "execution_count": null,
   "id": "94a11d89",
   "metadata": {},
   "outputs": [],
   "source": []
  },
  {
   "cell_type": "markdown",
   "id": "ad8f50a5",
   "metadata": {},
   "source": [
    "#### Find the total rainfall per month"
   ]
  },
  {
   "cell_type": "code",
   "execution_count": null,
   "id": "e36ed35d",
   "metadata": {},
   "outputs": [],
   "source": [
    "from pyspark.sql.functions import month, year, quarter"
   ]
  },
  {
   "cell_type": "code",
   "execution_count": null,
   "id": "cc669102",
   "metadata": {},
   "outputs": [],
   "source": []
  },
  {
   "cell_type": "code",
   "execution_count": null,
   "id": "b33ebd05",
   "metadata": {},
   "outputs": [],
   "source": []
  },
  {
   "cell_type": "markdown",
   "id": "659580d8",
   "metadata": {},
   "source": [
    "### Joins"
   ]
  },
  {
   "cell_type": "code",
   "execution_count": null,
   "id": "b6b59219",
   "metadata": {},
   "outputs": [],
   "source": [
    "(\n",
    "    df.withColumn(\"month\", month(\"date\"))\n",
    "    .groupBy(\"month\")\n",
    "    .agg(sum(\"precipitation\").alias(\"total_rainfall\"))\n",
    "    .sort(\"month\")\n",
    "    .show()\n",
    ")"
   ]
  },
  {
   "cell_type": "code",
   "execution_count": null,
   "id": "2613300e",
   "metadata": {},
   "outputs": [],
   "source": [
    "users = spark.createDataFrame(\n",
    "    pd.DataFrame(\n",
    "        {\n",
    "            \"id\": [1, 2, 3, 4, 5, 6],\n",
    "            \"name\": [\"bob\", \"joe\", \"sally\", \"adam\", \"jane\", \"mike\"],\n",
    "            \"role_id\": [1, 2, 3, 3, np.nan, np.nan],\n",
    "        }\n",
    "    )\n",
    ")\n",
    "roles = spark.createDataFrame(\n",
    "    pd.DataFrame(\n",
    "        {\n",
    "            \"id\": [1, 2, 3, 4],\n",
    "            \"name\": [\"admin\", \"author\", \"reviewer\", \"commenter\"],\n",
    "        }\n",
    "    )\n",
    ")\n",
    "print(\"--- users ---\")\n",
    "users.show()\n",
    "print(\"--- roles ---\")\n",
    "roles.show()"
   ]
  },
  {
   "cell_type": "code",
   "execution_count": null,
   "id": "9b2153c8",
   "metadata": {},
   "outputs": [],
   "source": []
  },
  {
   "cell_type": "code",
   "execution_count": null,
   "id": "996292da",
   "metadata": {},
   "outputs": [],
   "source": []
  },
  {
   "cell_type": "code",
   "execution_count": null,
   "id": "f2887a1a",
   "metadata": {},
   "outputs": [],
   "source": []
  },
  {
   "cell_type": "code",
   "execution_count": null,
   "id": "e348be99",
   "metadata": {},
   "outputs": [],
   "source": [
    "users.join(roles, on=users.role_id == roles.id).show()"
   ]
  },
  {
   "cell_type": "code",
   "execution_count": null,
   "id": "8ef9d7de",
   "metadata": {},
   "outputs": [],
   "source": [
    "users.join(roles, on=users.role_id == roles.id, how=\"left\").show()"
   ]
  }
 ],
 "metadata": {
  "kernelspec": {
   "display_name": "Python 3 (ipykernel)",
   "language": "python",
   "name": "python3"
  },
  "language_info": {
   "codemirror_mode": {
    "name": "ipython",
    "version": 3
   },
   "file_extension": ".py",
   "mimetype": "text/x-python",
   "name": "python",
   "nbconvert_exporter": "python",
   "pygments_lexer": "ipython3",
   "version": "3.9.12"
  }
 },
 "nbformat": 4,
 "nbformat_minor": 5
}
