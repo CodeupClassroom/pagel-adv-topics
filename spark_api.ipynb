{
 "cells": [
  {
   "cell_type": "markdown",
   "id": "2d60fbed",
   "metadata": {},
   "source": [
    "# Spark 101"
   ]
  },
  {
   "cell_type": "markdown",
   "id": "b9aac72f",
   "metadata": {},
   "source": [
    "All the basics! \n",
    "\n",
    "Slides: https://www.canva.com/design/DAFnPDJFUyk/ip_ybCdF6yPvjkWfE9tRqw/edit?utm_content=DAFnPDJFUyk&utm_campaign=designshare&utm_medium=link2&utm_source=sharebutton"
   ]
  },
  {
   "cell_type": "markdown",
   "id": "c9bf60ed",
   "metadata": {},
   "source": [
    "## Create Spark Session"
   ]
  },
  {
   "cell_type": "code",
   "execution_count": 1,
   "id": "862d9d17",
   "metadata": {},
   "outputs": [
    {
     "name": "stderr",
     "output_type": "stream",
     "text": [
      "Setting default log level to \"WARN\".\n",
      "To adjust logging level use sc.setLogLevel(newLevel). For SparkR, use setLogLevel(newLevel).\n"
     ]
    },
    {
     "name": "stdout",
     "output_type": "stream",
     "text": [
      "23/06/30 10:37:41 WARN NativeCodeLoader: Unable to load native-hadoop library for your platform... using builtin-java classes where applicable\n",
      "23/06/30 10:37:42 WARN Utils: Service 'SparkUI' could not bind on port 4040. Attempting port 4041.\n"
     ]
    },
    {
     "data": {
      "text/html": [
       "\n",
       "            <div>\n",
       "                <p><b>SparkSession - in-memory</b></p>\n",
       "                \n",
       "        <div>\n",
       "            <p><b>SparkContext</b></p>\n",
       "\n",
       "            <p><a href=\"http://mistygarciasmbp.localdomain:4041\">Spark UI</a></p>\n",
       "\n",
       "            <dl>\n",
       "              <dt>Version</dt>\n",
       "                <dd><code>v3.3.1</code></dd>\n",
       "              <dt>Master</dt>\n",
       "                <dd><code>local[*]</code></dd>\n",
       "              <dt>AppName</dt>\n",
       "                <dd><code>pyspark-shell</code></dd>\n",
       "            </dl>\n",
       "        </div>\n",
       "        \n",
       "            </div>\n",
       "        "
      ],
      "text/plain": [
       "<pyspark.sql.session.SparkSession at 0x1078dd6a0>"
      ]
     },
     "execution_count": 1,
     "metadata": {},
     "output_type": "execute_result"
    }
   ],
   "source": [
    "#import spark for python! \n",
    "import pyspark\n",
    "\n",
    "#create the spark session\n",
    "spark = pyspark.sql.SparkSession.builder.getOrCreate()\n",
    "spark"
   ]
  },
  {
   "cell_type": "markdown",
   "id": "03bb87f0",
   "metadata": {},
   "source": [
    "## Dataframe Basics\n",
    " - create dataframe: `spark.createdataframe`\n",
    " - see the results: `.show`\n",
    " - look at your data: `.describe`, `.dtypes`, `printSchema`\n",
    " - select & create columns: `.select`, `col`, `expr`"
   ]
  },
  {
   "cell_type": "markdown",
   "id": "d47265e4",
   "metadata": {},
   "source": [
    "### create dataframe from a pandas dataframe"
   ]
  },
  {
   "cell_type": "code",
   "execution_count": 2,
   "id": "2244a93c",
   "metadata": {},
   "outputs": [],
   "source": [
    "import pandas as pd\n",
    "import numpy as np"
   ]
  },
  {
   "cell_type": "code",
   "execution_count": 5,
   "id": "44dd41fa",
   "metadata": {},
   "outputs": [
    {
     "data": {
      "text/html": [
       "<div>\n",
       "<style scoped>\n",
       "    .dataframe tbody tr th:only-of-type {\n",
       "        vertical-align: middle;\n",
       "    }\n",
       "\n",
       "    .dataframe tbody tr th {\n",
       "        vertical-align: top;\n",
       "    }\n",
       "\n",
       "    .dataframe thead th {\n",
       "        text-align: right;\n",
       "    }\n",
       "</style>\n",
       "<table border=\"1\" class=\"dataframe\">\n",
       "  <thead>\n",
       "    <tr style=\"text-align: right;\">\n",
       "      <th></th>\n",
       "      <th>n</th>\n",
       "      <th>group</th>\n",
       "    </tr>\n",
       "  </thead>\n",
       "  <tbody>\n",
       "    <tr>\n",
       "      <th>0</th>\n",
       "      <td>0</td>\n",
       "      <td>c</td>\n",
       "    </tr>\n",
       "    <tr>\n",
       "      <th>1</th>\n",
       "      <td>1</td>\n",
       "      <td>a</td>\n",
       "    </tr>\n",
       "    <tr>\n",
       "      <th>2</th>\n",
       "      <td>2</td>\n",
       "      <td>a</td>\n",
       "    </tr>\n",
       "    <tr>\n",
       "      <th>3</th>\n",
       "      <td>3</td>\n",
       "      <td>a</td>\n",
       "    </tr>\n",
       "    <tr>\n",
       "      <th>4</th>\n",
       "      <td>4</td>\n",
       "      <td>a</td>\n",
       "    </tr>\n",
       "  </tbody>\n",
       "</table>\n",
       "</div>"
      ],
      "text/plain": [
       "   n group\n",
       "0  0     c\n",
       "1  1     a\n",
       "2  2     a\n",
       "3  3     a\n",
       "4  4     a"
      ]
     },
     "execution_count": 5,
     "metadata": {},
     "output_type": "execute_result"
    }
   ],
   "source": [
    "np.random.seed(452)\n",
    "\n",
    "pandas_dataframe = pd.DataFrame(\n",
    "    dict(n=np.arange(20), group=np.random.choice(list(\"abc\"), 20))\n",
    ")\n",
    "\n",
    "pandas_dataframe.head()"
   ]
  },
  {
   "cell_type": "code",
   "execution_count": 7,
   "id": "240fbb65",
   "metadata": {},
   "outputs": [
    {
     "data": {
      "text/plain": [
       "DataFrame[n: bigint, group: string]"
      ]
     },
     "execution_count": 7,
     "metadata": {},
     "output_type": "execute_result"
    }
   ],
   "source": [
    "#create spark dataframe \n",
    "df = spark.createDataFrame(pandas_dataframe)\n",
    "df"
   ]
  },
  {
   "cell_type": "markdown",
   "id": "443911b5",
   "metadata": {},
   "source": [
    "### See the results"
   ]
  },
  {
   "cell_type": "markdown",
   "id": "e5716241",
   "metadata": {},
   "source": [
    "<div class='alert alert-box alert-info'>\n",
    "<b>Note:</b> Spark is lazy and won't display info unless you tell it to\n",
    "</div>"
   ]
  },
  {
   "cell_type": "code",
   "execution_count": 8,
   "id": "6d3c656d",
   "metadata": {},
   "outputs": [
    {
     "name": "stderr",
     "output_type": "stream",
     "text": [
      "                                                                                \r"
     ]
    },
    {
     "name": "stdout",
     "output_type": "stream",
     "text": [
      "+---+-----+\n",
      "|  n|group|\n",
      "+---+-----+\n",
      "|  0|    c|\n",
      "|  1|    a|\n",
      "|  2|    a|\n",
      "|  3|    a|\n",
      "|  4|    a|\n",
      "|  5|    a|\n",
      "|  6|    c|\n",
      "|  7|    c|\n",
      "|  8|    a|\n",
      "|  9|    a|\n",
      "| 10|    b|\n",
      "| 11|    a|\n",
      "| 12|    a|\n",
      "| 13|    a|\n",
      "| 14|    a|\n",
      "| 15|    a|\n",
      "| 16|    b|\n",
      "| 17|    a|\n",
      "| 18|    c|\n",
      "| 19|    a|\n",
      "+---+-----+\n",
      "\n"
     ]
    }
   ],
   "source": [
    "df.show()"
   ]
  },
  {
   "cell_type": "markdown",
   "id": "0bb01a78",
   "metadata": {},
   "source": [
    "### create dataframe from the pydataset"
   ]
  },
  {
   "cell_type": "code",
   "execution_count": 9,
   "id": "967f1774",
   "metadata": {},
   "outputs": [],
   "source": [
    "from pydataset import data"
   ]
  },
  {
   "cell_type": "code",
   "execution_count": 10,
   "id": "4eb319e6",
   "metadata": {},
   "outputs": [
    {
     "data": {
      "text/plain": [
       "DataFrame[manufacturer: string, model: string, displ: double, year: bigint, cyl: bigint, trans: string, drv: string, cty: bigint, hwy: bigint, fl: string, class: string]"
      ]
     },
     "execution_count": 10,
     "metadata": {},
     "output_type": "execute_result"
    }
   ],
   "source": [
    "df = spark.createDataFrame(data('mpg'))\n",
    "df"
   ]
  },
  {
   "cell_type": "markdown",
   "id": "2f61b764",
   "metadata": {},
   "source": [
    "### look at your data"
   ]
  },
  {
   "cell_type": "code",
   "execution_count": 21,
   "id": "4e613003",
   "metadata": {},
   "outputs": [
    {
     "name": "stdout",
     "output_type": "stream",
     "text": [
      "+------------+-----+-----+----+---+----------+---+---+---+---+-------+\n",
      "|manufacturer|model|displ|year|cyl|     trans|drv|cty|hwy| fl|  class|\n",
      "+------------+-----+-----+----+---+----------+---+---+---+---+-------+\n",
      "|        audi|   a4|  1.8|1999|  4|  auto(l5)|  f| 18| 29|  p|compact|\n",
      "|        audi|   a4|  1.8|1999|  4|manual(m5)|  f| 21| 29|  p|compact|\n",
      "|        audi|   a4|  2.0|2008|  4|manual(m6)|  f| 20| 31|  p|compact|\n",
      "|        audi|   a4|  2.0|2008|  4|  auto(av)|  f| 21| 30|  p|compact|\n",
      "|        audi|   a4|  2.8|1999|  6|  auto(l5)|  f| 16| 26|  p|compact|\n",
      "+------------+-----+-----+----+---+----------+---+---+---+---+-------+\n",
      "only showing top 5 rows\n",
      "\n"
     ]
    }
   ],
   "source": [
    "df.show(5)"
   ]
  },
  {
   "cell_type": "code",
   "execution_count": 23,
   "id": "c935cce2",
   "metadata": {},
   "outputs": [
    {
     "name": "stderr",
     "output_type": "stream",
     "text": [
      "\r",
      "[Stage 13:>                                                       (0 + 10) / 10]\r"
     ]
    },
    {
     "name": "stdout",
     "output_type": "stream",
     "text": [
      "+-------+------------+-----------------+-----------------+------------------+-----------------+----------+---+------------------+-----------------+----+-------+\n",
      "|summary|manufacturer|            model|            displ|              year|              cyl|     trans|drv|               cty|              hwy|  fl|  class|\n",
      "+-------+------------+-----------------+-----------------+------------------+-----------------+----------+---+------------------+-----------------+----+-------+\n",
      "|  count|         234|              234|              234|               234|              234|       234|234|               234|              234| 234|    234|\n",
      "|   mean|        null|             null|3.471794871794872|            2003.5|5.888888888888889|      null|4.0|16.858974358974358|23.44017094017094|null|   null|\n",
      "| stddev|        null|             null|1.291959031083935|4.5096463133204585|1.611534484684289|      null|0.0| 4.255945678889394|5.954643441166448|null|   null|\n",
      "|    min|        audi|      4runner 4wd|              1.6|              1999|                4|  auto(av)|  4|                 9|               12|   c|2seater|\n",
      "|    max|  volkswagen|toyota tacoma 4wd|              7.0|              2008|                8|manual(m6)|  r|                35|               44|   r|    suv|\n",
      "+-------+------------+-----------------+-----------------+------------------+-----------------+----------+---+------------------+-----------------+----+-------+\n",
      "\n"
     ]
    },
    {
     "name": "stderr",
     "output_type": "stream",
     "text": [
      "\r",
      "                                                                                \r"
     ]
    }
   ],
   "source": [
    "#describe\n",
    "df.describe().show()"
   ]
  },
  {
   "cell_type": "code",
   "execution_count": 25,
   "id": "d8d4a236",
   "metadata": {},
   "outputs": [
    {
     "name": "stdout",
     "output_type": "stream",
     "text": [
      "-RECORD 0--------------------------\n",
      " summary      | count              \n",
      " manufacturer | 234                \n",
      " model        | 234                \n",
      " displ        | 234                \n",
      " year         | 234                \n",
      " cyl          | 234                \n",
      " trans        | 234                \n",
      " drv          | 234                \n",
      " cty          | 234                \n",
      " hwy          | 234                \n",
      " fl           | 234                \n",
      " class        | 234                \n",
      "-RECORD 1--------------------------\n",
      " summary      | mean               \n",
      " manufacturer | null               \n",
      " model        | null               \n",
      " displ        | 3.471794871794872  \n",
      " year         | 2003.5             \n",
      " cyl          | 5.888888888888889  \n",
      " trans        | null               \n",
      " drv          | 4.0                \n",
      " cty          | 16.858974358974358 \n",
      " hwy          | 23.44017094017094  \n",
      " fl           | null               \n",
      " class        | null               \n",
      "only showing top 2 rows\n",
      "\n"
     ]
    }
   ],
   "source": [
    "#describe vertical\n",
    "df.describe().show(2, vertical=True)"
   ]
  },
  {
   "cell_type": "code",
   "execution_count": 26,
   "id": "76d8c475",
   "metadata": {},
   "outputs": [
    {
     "name": "stdout",
     "output_type": "stream",
     "text": [
      "root\n",
      " |-- manufacturer: string (nullable = true)\n",
      " |-- model: string (nullable = true)\n",
      " |-- displ: double (nullable = true)\n",
      " |-- year: long (nullable = true)\n",
      " |-- cyl: long (nullable = true)\n",
      " |-- trans: string (nullable = true)\n",
      " |-- drv: string (nullable = true)\n",
      " |-- cty: long (nullable = true)\n",
      " |-- hwy: long (nullable = true)\n",
      " |-- fl: string (nullable = true)\n",
      " |-- class: string (nullable = true)\n",
      "\n"
     ]
    }
   ],
   "source": [
    "#printSchema\n",
    "df.printSchema()"
   ]
  },
  {
   "cell_type": "code",
   "execution_count": 29,
   "id": "d30ce2b4",
   "metadata": {},
   "outputs": [
    {
     "data": {
      "text/plain": [
       "[('manufacturer', 'string'),\n",
       " ('model', 'string'),\n",
       " ('displ', 'double'),\n",
       " ('year', 'bigint'),\n",
       " ('cyl', 'bigint'),\n",
       " ('trans', 'string'),\n",
       " ('drv', 'string'),\n",
       " ('cty', 'bigint'),\n",
       " ('hwy', 'bigint'),\n",
       " ('fl', 'string'),\n",
       " ('class', 'string')]"
      ]
     },
     "execution_count": 29,
     "metadata": {},
     "output_type": "execute_result"
    }
   ],
   "source": [
    "#dtypes\n",
    "df.dtypes"
   ]
  },
  {
   "cell_type": "code",
   "execution_count": 31,
   "id": "deb81bac",
   "metadata": {},
   "outputs": [
    {
     "data": {
      "text/plain": [
       "234"
      ]
     },
     "execution_count": 31,
     "metadata": {},
     "output_type": "execute_result"
    }
   ],
   "source": [
    "#number of rows\n",
    "df.count()"
   ]
  },
  {
   "cell_type": "code",
   "execution_count": 33,
   "id": "d9a12530",
   "metadata": {},
   "outputs": [
    {
     "data": {
      "text/plain": [
       "11"
      ]
     },
     "execution_count": 33,
     "metadata": {},
     "output_type": "execute_result"
    }
   ],
   "source": [
    "#number of columns\n",
    "len(df.columns)"
   ]
  },
  {
   "cell_type": "markdown",
   "id": "9711fe08",
   "metadata": {},
   "source": [
    "### select columns"
   ]
  },
  {
   "cell_type": "markdown",
   "id": "bb1fc314",
   "metadata": {},
   "source": [
    "<div class='alert alert-box alert-info'>\n",
    "<b>Reminder:</b> Spark is still lazy\n",
    "</div>"
   ]
  },
  {
   "cell_type": "code",
   "execution_count": 34,
   "id": "e54eab35",
   "metadata": {},
   "outputs": [
    {
     "data": {
      "text/plain": [
       "DataFrame[trans: string]"
      ]
     },
     "execution_count": 34,
     "metadata": {},
     "output_type": "execute_result"
    }
   ],
   "source": [
    "df.select('trans')"
   ]
  },
  {
   "cell_type": "code",
   "execution_count": 36,
   "id": "26cc3f18",
   "metadata": {},
   "outputs": [
    {
     "name": "stdout",
     "output_type": "stream",
     "text": [
      "+----------+\n",
      "|     trans|\n",
      "+----------+\n",
      "|  auto(l5)|\n",
      "|manual(m5)|\n",
      "|manual(m6)|\n",
      "|  auto(av)|\n",
      "|  auto(l5)|\n",
      "+----------+\n",
      "only showing top 5 rows\n",
      "\n"
     ]
    }
   ],
   "source": [
    "df.select('trans').show(5)"
   ]
  },
  {
   "cell_type": "code",
   "execution_count": 37,
   "id": "58269887",
   "metadata": {},
   "outputs": [
    {
     "name": "stdout",
     "output_type": "stream",
     "text": [
      "+----------+\n",
      "|     trans|\n",
      "+----------+\n",
      "|  auto(l5)|\n",
      "|manual(m5)|\n",
      "|manual(m6)|\n",
      "|  auto(av)|\n",
      "|  auto(l5)|\n",
      "+----------+\n",
      "only showing top 5 rows\n",
      "\n"
     ]
    }
   ],
   "source": [
    "df.select(df.trans).show(5)"
   ]
  },
  {
   "cell_type": "code",
   "execution_count": 39,
   "id": "00d9d954",
   "metadata": {},
   "outputs": [
    {
     "name": "stdout",
     "output_type": "stream",
     "text": [
      "+----------+---+\n",
      "|     trans|hwy|\n",
      "+----------+---+\n",
      "|  auto(l5)| 29|\n",
      "|manual(m5)| 29|\n",
      "|manual(m6)| 31|\n",
      "|  auto(av)| 30|\n",
      "|  auto(l5)| 26|\n",
      "+----------+---+\n",
      "only showing top 5 rows\n",
      "\n"
     ]
    }
   ],
   "source": [
    "#select two columns\n",
    "df.select('trans','hwy').show(5)"
   ]
  },
  {
   "cell_type": "markdown",
   "id": "b157c06e",
   "metadata": {},
   "source": [
    "#### save our selected columns"
   ]
  },
  {
   "cell_type": "markdown",
   "id": "019f30cf",
   "metadata": {},
   "source": [
    "<div class='alert alert-box alert-info'>\n",
    "<b>Note:</b> You can not save a display output\n",
    "</div>"
   ]
  },
  {
   "cell_type": "code",
   "execution_count": 46,
   "id": "84e02b42",
   "metadata": {},
   "outputs": [
    {
     "name": "stdout",
     "output_type": "stream",
     "text": [
      "+-----+----+\n",
      "|model|year|\n",
      "+-----+----+\n",
      "|   a4|1999|\n",
      "|   a4|1999|\n",
      "|   a4|2008|\n",
      "|   a4|2008|\n",
      "|   a4|1999|\n",
      "+-----+----+\n",
      "only showing top 5 rows\n",
      "\n"
     ]
    }
   ],
   "source": [
    "df_cols = df.select('model','year').show(5)"
   ]
  },
  {
   "cell_type": "code",
   "execution_count": 45,
   "id": "70382fcd",
   "metadata": {},
   "outputs": [],
   "source": [
    "# df_cols.show()"
   ]
  },
  {
   "cell_type": "code",
   "execution_count": 47,
   "id": "9e932cea",
   "metadata": {},
   "outputs": [
    {
     "data": {
      "text/plain": [
       "NoneType"
      ]
     },
     "execution_count": 47,
     "metadata": {},
     "output_type": "execute_result"
    }
   ],
   "source": [
    "type(df_cols)"
   ]
  },
  {
   "cell_type": "code",
   "execution_count": 51,
   "id": "218b1d5d",
   "metadata": {},
   "outputs": [],
   "source": [
    "#remove the .show()\n",
    "df_cols = df.select('model','year')"
   ]
  },
  {
   "cell_type": "code",
   "execution_count": 52,
   "id": "c081067b",
   "metadata": {},
   "outputs": [
    {
     "name": "stdout",
     "output_type": "stream",
     "text": [
      "+------------------+----+\n",
      "|             model|year|\n",
      "+------------------+----+\n",
      "|                a4|1999|\n",
      "|                a4|1999|\n",
      "|                a4|2008|\n",
      "|                a4|2008|\n",
      "|                a4|1999|\n",
      "|                a4|1999|\n",
      "|                a4|2008|\n",
      "|        a4 quattro|1999|\n",
      "|        a4 quattro|1999|\n",
      "|        a4 quattro|2008|\n",
      "|        a4 quattro|2008|\n",
      "|        a4 quattro|1999|\n",
      "|        a4 quattro|1999|\n",
      "|        a4 quattro|2008|\n",
      "|        a4 quattro|2008|\n",
      "|        a6 quattro|1999|\n",
      "|        a6 quattro|2008|\n",
      "|        a6 quattro|2008|\n",
      "|c1500 suburban 2wd|2008|\n",
      "|c1500 suburban 2wd|2008|\n",
      "+------------------+----+\n",
      "only showing top 20 rows\n",
      "\n"
     ]
    }
   ],
   "source": [
    "df_cols.show()"
   ]
  },
  {
   "cell_type": "markdown",
   "id": "02e399b7",
   "metadata": {},
   "source": [
    "### create columns\n",
    " - use basic math operators\n",
    " - change column names: `alias`"
   ]
  },
  {
   "cell_type": "code",
   "execution_count": 53,
   "id": "35911678",
   "metadata": {},
   "outputs": [
    {
     "name": "stdout",
     "output_type": "stream",
     "text": [
      "+------------+-----+-----+----+---+----------+---+---+---+---+-------+\n",
      "|manufacturer|model|displ|year|cyl|     trans|drv|cty|hwy| fl|  class|\n",
      "+------------+-----+-----+----+---+----------+---+---+---+---+-------+\n",
      "|        audi|   a4|  1.8|1999|  4|  auto(l5)|  f| 18| 29|  p|compact|\n",
      "|        audi|   a4|  1.8|1999|  4|manual(m5)|  f| 21| 29|  p|compact|\n",
      "|        audi|   a4|  2.0|2008|  4|manual(m6)|  f| 20| 31|  p|compact|\n",
      "|        audi|   a4|  2.0|2008|  4|  auto(av)|  f| 21| 30|  p|compact|\n",
      "|        audi|   a4|  2.8|1999|  6|  auto(l5)|  f| 16| 26|  p|compact|\n",
      "+------------+-----+-----+----+---+----------+---+---+---+---+-------+\n",
      "only showing top 5 rows\n",
      "\n"
     ]
    }
   ],
   "source": [
    "df.show(5)"
   ]
  },
  {
   "cell_type": "markdown",
   "id": "0567d4b0",
   "metadata": {},
   "source": [
    "#### half the highway mileage"
   ]
  },
  {
   "cell_type": "code",
   "execution_count": 56,
   "id": "d453d38f",
   "metadata": {},
   "outputs": [
    {
     "data": {
      "text/plain": [
       "Column<'(hwy / 2)'>"
      ]
     },
     "execution_count": 56,
     "metadata": {},
     "output_type": "execute_result"
    }
   ],
   "source": [
    "df.hwy / 2"
   ]
  },
  {
   "cell_type": "code",
   "execution_count": 61,
   "id": "043bf938",
   "metadata": {},
   "outputs": [
    {
     "name": "stdout",
     "output_type": "stream",
     "text": [
      "+---+--------+\n",
      "|hwy|half_hwy|\n",
      "+---+--------+\n",
      "| 29|    14.5|\n",
      "| 29|    14.5|\n",
      "| 31|    15.5|\n",
      "| 30|    15.0|\n",
      "| 26|    13.0|\n",
      "+---+--------+\n",
      "only showing top 5 rows\n",
      "\n"
     ]
    }
   ],
   "source": [
    "df.select(\n",
    "    df.hwy,\n",
    "     (df.hwy / 2).alias('half_hwy')\n",
    ").show(5)"
   ]
  },
  {
   "cell_type": "code",
   "execution_count": 62,
   "id": "be0a2fd4",
   "metadata": {},
   "outputs": [
    {
     "name": "stdout",
     "output_type": "stream",
     "text": [
      "+------------+-----+-----+----+---+----------+---+---+---+---+-------+\n",
      "|manufacturer|model|displ|year|cyl|     trans|drv|cty|hwy| fl|  class|\n",
      "+------------+-----+-----+----+---+----------+---+---+---+---+-------+\n",
      "|        audi|   a4|  1.8|1999|  4|  auto(l5)|  f| 18| 29|  p|compact|\n",
      "|        audi|   a4|  1.8|1999|  4|manual(m5)|  f| 21| 29|  p|compact|\n",
      "|        audi|   a4|  2.0|2008|  4|manual(m6)|  f| 20| 31|  p|compact|\n",
      "|        audi|   a4|  2.0|2008|  4|  auto(av)|  f| 21| 30|  p|compact|\n",
      "|        audi|   a4|  2.8|1999|  6|  auto(l5)|  f| 16| 26|  p|compact|\n",
      "+------------+-----+-----+----+---+----------+---+---+---+---+-------+\n",
      "only showing top 5 rows\n",
      "\n"
     ]
    }
   ],
   "source": [
    "df.show(5)"
   ]
  },
  {
   "cell_type": "markdown",
   "id": "6538e949",
   "metadata": {},
   "source": [
    "### select & create columns: `col`"
   ]
  },
  {
   "cell_type": "code",
   "execution_count": 63,
   "id": "fef7f1cf",
   "metadata": {},
   "outputs": [],
   "source": [
    "from pyspark.sql.functions import col"
   ]
  },
  {
   "cell_type": "code",
   "execution_count": 70,
   "id": "41b65add",
   "metadata": {},
   "outputs": [
    {
     "name": "stdout",
     "output_type": "stream",
     "text": [
      "+---+---+---------+-----------+\n",
      "|hwy|hwy|(hwy + 1)|hwy_and_cty|\n",
      "+---+---+---------+-----------+\n",
      "| 29| 29|       30|         47|\n",
      "| 29| 29|       30|         50|\n",
      "| 31| 31|       32|         51|\n",
      "| 30| 30|       31|         51|\n",
      "| 26| 26|       27|         42|\n",
      "+---+---+---------+-----------+\n",
      "only showing top 5 rows\n",
      "\n"
     ]
    }
   ],
   "source": [
    "df.select(\n",
    "    df.hwy,\n",
    "    col('hwy'),\n",
    "    col('hwy') + 1,\n",
    "    (col('hwy') + col('cty')).alias('hwy_and_cty')\n",
    "\n",
    ").show(5)"
   ]
  },
  {
   "cell_type": "markdown",
   "id": "692787c6",
   "metadata": {},
   "source": [
    "### select & create columns: `expr`"
   ]
  },
  {
   "cell_type": "code",
   "execution_count": 71,
   "id": "eab57536",
   "metadata": {},
   "outputs": [],
   "source": [
    "from pyspark.sql.functions import expr"
   ]
  },
  {
   "cell_type": "code",
   "execution_count": 76,
   "id": "012ee395",
   "metadata": {},
   "outputs": [
    {
     "name": "stdout",
     "output_type": "stream",
     "text": [
      "+---+---------+-------+\n",
      "|hwy|(hwy + 1)|highway|\n",
      "+---+---------+-------+\n",
      "| 29|       30|     29|\n",
      "| 29|       30|     29|\n",
      "| 31|       32|     31|\n",
      "| 30|       31|     30|\n",
      "| 26|       27|     26|\n",
      "+---+---------+-------+\n",
      "only showing top 5 rows\n",
      "\n"
     ]
    }
   ],
   "source": [
    "df.select(\n",
    "    expr('hwy'),\n",
    "    expr('hwy + 1'),\n",
    "    expr('hwy as highway')\n",
    ").show(5)"
   ]
  },
  {
   "cell_type": "markdown",
   "id": "ad326894",
   "metadata": {},
   "source": [
    "### create column: `withColumn`"
   ]
  },
  {
   "cell_type": "markdown",
   "id": "73c579a7",
   "metadata": {},
   "source": [
    "this will keep our initial dataframe and add a new column"
   ]
  },
  {
   "cell_type": "code",
   "execution_count": 82,
   "id": "8161d5b0",
   "metadata": {},
   "outputs": [
    {
     "name": "stdout",
     "output_type": "stream",
     "text": [
      "+------------+----------+-----+----+---+----------+---+---+---+---+-------+------------+\n",
      "|manufacturer|     model|displ|year|cyl|     trans|drv|cty|hwy| fl|  class|hwy_plus_one|\n",
      "+------------+----------+-----+----+---+----------+---+---+---+---+-------+------------+\n",
      "|        audi|        a4|  1.8|1999|  4|  auto(l5)|  f| 18| 29|  p|compact|          30|\n",
      "|        audi|        a4|  1.8|1999|  4|manual(m5)|  f| 21| 29|  p|compact|          30|\n",
      "|        audi|        a4|  2.0|2008|  4|manual(m6)|  f| 20| 31|  p|compact|          32|\n",
      "|        audi|        a4|  2.0|2008|  4|  auto(av)|  f| 21| 30|  p|compact|          31|\n",
      "|        audi|        a4|  2.8|1999|  6|  auto(l5)|  f| 16| 26|  p|compact|          27|\n",
      "|        audi|        a4|  2.8|1999|  6|manual(m5)|  f| 18| 26|  p|compact|          27|\n",
      "|        audi|        a4|  3.1|2008|  6|  auto(av)|  f| 18| 27|  p|compact|          28|\n",
      "|        audi|a4 quattro|  1.8|1999|  4|manual(m5)|  4| 18| 26|  p|compact|          27|\n",
      "|        audi|a4 quattro|  1.8|1999|  4|  auto(l5)|  4| 16| 25|  p|compact|          26|\n",
      "|        audi|a4 quattro|  2.0|2008|  4|manual(m6)|  4| 20| 28|  p|compact|          29|\n",
      "+------------+----------+-----+----+---+----------+---+---+---+---+-------+------------+\n",
      "only showing top 10 rows\n",
      "\n"
     ]
    }
   ],
   "source": [
    "df.withColumn(\n",
    "    'hwy_plus_one', #new column name\n",
    "    col('hwy') + 1 #how the new column is created\n",
    ").show(10)"
   ]
  },
  {
   "cell_type": "code",
   "execution_count": 83,
   "id": "7ab52998",
   "metadata": {},
   "outputs": [
    {
     "name": "stdout",
     "output_type": "stream",
     "text": [
      "+------------+----------+-----+----+---+----------+---+---+---+---+-------+\n",
      "|manufacturer|     model|displ|year|cyl|     trans|drv|cty|hwy| fl|  class|\n",
      "+------------+----------+-----+----+---+----------+---+---+---+---+-------+\n",
      "|        audi|        a4|  1.8|1999|  4|  auto(l5)|  f| 18| 29|  p|compact|\n",
      "|        audi|        a4|  1.8|1999|  4|manual(m5)|  f| 21| 29|  p|compact|\n",
      "|        audi|        a4|  2.0|2008|  4|manual(m6)|  f| 20| 31|  p|compact|\n",
      "|        audi|        a4|  2.0|2008|  4|  auto(av)|  f| 21| 30|  p|compact|\n",
      "|        audi|        a4|  2.8|1999|  6|  auto(l5)|  f| 16| 26|  p|compact|\n",
      "|        audi|        a4|  2.8|1999|  6|manual(m5)|  f| 18| 26|  p|compact|\n",
      "|        audi|        a4|  3.1|2008|  6|  auto(av)|  f| 18| 27|  p|compact|\n",
      "|        audi|a4 quattro|  1.8|1999|  4|manual(m5)|  4| 18| 26|  p|compact|\n",
      "|        audi|a4 quattro|  1.8|1999|  4|  auto(l5)|  4| 16| 25|  p|compact|\n",
      "|        audi|a4 quattro|  2.0|2008|  4|manual(m6)|  4| 20| 28|  p|compact|\n",
      "+------------+----------+-----+----+---+----------+---+---+---+---+-------+\n",
      "only showing top 10 rows\n",
      "\n"
     ]
    }
   ],
   "source": [
    "df.show(10)"
   ]
  },
  {
   "cell_type": "markdown",
   "id": "bcaf2486",
   "metadata": {},
   "source": [
    "## Transforming columns"
   ]
  },
  {
   "cell_type": "markdown",
   "id": "6ef5c1ed",
   "metadata": {},
   "source": [
    "### built-in functions - math"
   ]
  },
  {
   "cell_type": "code",
   "execution_count": 84,
   "id": "de955cae",
   "metadata": {},
   "outputs": [],
   "source": [
    "from pyspark.sql.functions import min, max, sum, count, mean, avg"
   ]
  },
  {
   "cell_type": "code",
   "execution_count": 93,
   "id": "8846ec82",
   "metadata": {},
   "outputs": [
    {
     "name": "stdout",
     "output_type": "stream",
     "text": [
      "+--------+--------+-----------------+-----------------+----------+\n",
      "|min(hwy)|max(hwy)|         avg(hwy)|         avg(hwy)|count(hwy)|\n",
      "+--------+--------+-----------------+-----------------+----------+\n",
      "|      12|      44|23.44017094017094|23.44017094017094|       234|\n",
      "+--------+--------+-----------------+-----------------+----------+\n",
      "\n"
     ]
    }
   ],
   "source": [
    "#use min, max, and calculate average highway mileage\n",
    "df.select(\n",
    "    min(df.hwy),\n",
    "    max(df.hwy),\n",
    "    avg(df.hwy),\n",
    "    mean(df.hwy),\n",
    "    count(col('hwy'))\n",
    ").show(5)"
   ]
  },
  {
   "cell_type": "markdown",
   "id": "e9d181f0",
   "metadata": {},
   "source": [
    "### built-in functions - strings\n",
    "- `concat`: to concatenate strings\n",
    "- `lit`: creates literal value of character"
   ]
  },
  {
   "cell_type": "code",
   "execution_count": 94,
   "id": "8af32aa2",
   "metadata": {},
   "outputs": [],
   "source": [
    "from pyspark.sql.functions import concat, lit"
   ]
  },
  {
   "cell_type": "code",
   "execution_count": 95,
   "id": "ee81d2c8",
   "metadata": {},
   "outputs": [
    {
     "name": "stdout",
     "output_type": "stream",
     "text": [
      "+------------+-----+-----+----+---+----------+---+---+---+---+-------+\n",
      "|manufacturer|model|displ|year|cyl|     trans|drv|cty|hwy| fl|  class|\n",
      "+------------+-----+-----+----+---+----------+---+---+---+---+-------+\n",
      "|        audi|   a4|  1.8|1999|  4|  auto(l5)|  f| 18| 29|  p|compact|\n",
      "|        audi|   a4|  1.8|1999|  4|manual(m5)|  f| 21| 29|  p|compact|\n",
      "|        audi|   a4|  2.0|2008|  4|manual(m6)|  f| 20| 31|  p|compact|\n",
      "|        audi|   a4|  2.0|2008|  4|  auto(av)|  f| 21| 30|  p|compact|\n",
      "|        audi|   a4|  2.8|1999|  6|  auto(l5)|  f| 16| 26|  p|compact|\n",
      "+------------+-----+-----+----+---+----------+---+---+---+---+-------+\n",
      "only showing top 5 rows\n",
      "\n"
     ]
    }
   ],
   "source": [
    "df.show(5)"
   ]
  },
  {
   "cell_type": "code",
   "execution_count": 99,
   "id": "ee0618af",
   "metadata": {},
   "outputs": [
    {
     "name": "stdout",
     "output_type": "stream",
     "text": [
      "+---------------------------+\n",
      "|concat(manufacturer, model)|\n",
      "+---------------------------+\n",
      "|                     audia4|\n",
      "|                     audia4|\n",
      "|                     audia4|\n",
      "|                     audia4|\n",
      "|                     audia4|\n",
      "+---------------------------+\n",
      "only showing top 5 rows\n",
      "\n"
     ]
    }
   ],
   "source": [
    "#combine manufacturer and model together\n",
    "df.select(\n",
    "    concat(df.manufacturer, df.model)\n",
    ").show(5)"
   ]
  },
  {
   "cell_type": "code",
   "execution_count": 108,
   "id": "05e1b2ae",
   "metadata": {},
   "outputs": [
    {
     "name": "stdout",
     "output_type": "stream",
     "text": [
      "+----------------------+\n",
      "|(manufacturer + model)|\n",
      "+----------------------+\n",
      "|                  null|\n",
      "|                  null|\n",
      "|                  null|\n",
      "|                  null|\n",
      "|                  null|\n",
      "+----------------------+\n",
      "only showing top 5 rows\n",
      "\n"
     ]
    }
   ],
   "source": [
    "#combine manufacturer and model together\n",
    "df.select(\n",
    "    df.manufacturer + df.model\n",
    ").show(5)"
   ]
  },
  {
   "cell_type": "code",
   "execution_count": 103,
   "id": "71e7f031",
   "metadata": {},
   "outputs": [
    {
     "name": "stdout",
     "output_type": "stream",
     "text": [
      "+--------------+\n",
      "|make_and_model|\n",
      "+--------------+\n",
      "|       audi a4|\n",
      "|       audi a4|\n",
      "|       audi a4|\n",
      "|       audi a4|\n",
      "|       audi a4|\n",
      "+--------------+\n",
      "only showing top 5 rows\n",
      "\n"
     ]
    }
   ],
   "source": [
    "df.select(\n",
    "    concat(df.manufacturer, lit(' '), df.model).alias('make_and_model')\n",
    ").show(5)"
   ]
  },
  {
   "cell_type": "code",
   "execution_count": 106,
   "id": "d7f32a34",
   "metadata": {},
   "outputs": [
    {
     "name": "stdout",
     "output_type": "stream",
     "text": [
      "+---+---+----------------+\n",
      "|cty|hwy|concat(cty, hwy)|\n",
      "+---+---+----------------+\n",
      "| 18| 29|            1829|\n",
      "| 21| 29|            2129|\n",
      "| 20| 31|            2031|\n",
      "| 21| 30|            2130|\n",
      "| 16| 26|            1626|\n",
      "+---+---+----------------+\n",
      "only showing top 5 rows\n",
      "\n"
     ]
    }
   ],
   "source": [
    "#combine city and highway together\n",
    "df.select(\n",
    "    df.cty,\n",
    "    df.hwy,\n",
    "    concat(df.cty, df.hwy)\n",
    ").show(5)"
   ]
  },
  {
   "cell_type": "code",
   "execution_count": 107,
   "id": "0d535147",
   "metadata": {},
   "outputs": [
    {
     "data": {
      "text/plain": [
       "[('manufacturer', 'string'),\n",
       " ('model', 'string'),\n",
       " ('displ', 'double'),\n",
       " ('year', 'bigint'),\n",
       " ('cyl', 'bigint'),\n",
       " ('trans', 'string'),\n",
       " ('drv', 'string'),\n",
       " ('cty', 'bigint'),\n",
       " ('hwy', 'bigint'),\n",
       " ('fl', 'string'),\n",
       " ('class', 'string')]"
      ]
     },
     "execution_count": 107,
     "metadata": {},
     "output_type": "execute_result"
    }
   ],
   "source": [
    "df.dtypes"
   ]
  },
  {
   "cell_type": "markdown",
   "id": "94f63b83",
   "metadata": {},
   "source": [
    "### Regex! "
   ]
  },
  {
   "cell_type": "markdown",
   "id": "187bd9ad",
   "metadata": {},
   "source": [
    "- `regexp_extract`: use regex to extract data\n",
    "- `regexp_replace`: use regex to replace data"
   ]
  },
  {
   "cell_type": "code",
   "execution_count": 109,
   "id": "ca9d0fe4",
   "metadata": {},
   "outputs": [],
   "source": [
    "from pyspark.sql.functions import regexp_extract, regexp_replace"
   ]
  },
  {
   "cell_type": "code",
   "execution_count": 112,
   "id": "5b6a28ac",
   "metadata": {},
   "outputs": [
    {
     "name": "stdout",
     "output_type": "stream",
     "text": [
      "+-----------------------------------------------+\n",
      "|address                                        |\n",
      "+-----------------------------------------------+\n",
      "|600 Navarro St ste 600, San Antonio, TX 78205  |\n",
      "|3130 Broadway St, San Antonio, TX 78209        |\n",
      "|303 Pearl Pkwy, San Antonio, TX 78215          |\n",
      "|1255 SW Loop 410!!!!, San - Antonio, TX @78227@|\n",
      "+-----------------------------------------------+\n",
      "\n"
     ]
    }
   ],
   "source": [
    "textdf = spark.createDataFrame(\n",
    "    pd.DataFrame(\n",
    "        {\n",
    "            \"address\": [\n",
    "                \"600 Navarro St ste 600, San Antonio, TX 78205\",\n",
    "                \"3130 Broadway St, San Antonio, TX 78209\",\n",
    "                \"303 Pearl Pkwy, San Antonio, TX 78215\",\n",
    "                \"1255 SW Loop 410!!!!, San - Antonio, TX @78227@\",\n",
    "            ]\n",
    "        }\n",
    "    )\n",
    ")\n",
    "\n",
    "textdf.show(truncate=False)"
   ]
  },
  {
   "cell_type": "code",
   "execution_count": 128,
   "id": "b3063034",
   "metadata": {},
   "outputs": [
    {
     "name": "stdout",
     "output_type": "stream",
     "text": [
      "+-----------------------------------------------+---------+-----------+-------------------------------------------+\n",
      "|address                                        |street_no|street_name|clean_address                              |\n",
      "+-----------------------------------------------+---------+-----------+-------------------------------------------+\n",
      "|600 Navarro St ste 600, San Antonio, TX 78205  |600      |Navarro    |600 Navarro St ste 600 San Antonio TX 78205|\n",
      "|3130 Broadway St, San Antonio, TX 78209        |3130     |Broadway   |3130 Broadway St San Antonio TX 78209      |\n",
      "|303 Pearl Pkwy, San Antonio, TX 78215          |303      |Pearl      |303 Pearl Pkwy San Antonio TX 78215        |\n",
      "|1255 SW Loop 410!!!!, San - Antonio, TX @78227@|1255     |SW         |1255 SW Loop 410 San  Antonio TX 78227     |\n",
      "+-----------------------------------------------+---------+-----------+-------------------------------------------+\n",
      "\n"
     ]
    }
   ],
   "source": [
    "textdf.select(\n",
    "    'address',\n",
    "    regexp_extract('address', r'(\\d+)', 1).alias('street_no'),\n",
    "    regexp_extract('address', r'(\\d+)\\s(\\w+)', 2).alias('street_name'),\n",
    "    regexp_replace('address', r'[^\\w\\s]', '').alias('clean_address')\n",
    ").show(truncate=False)"
   ]
  },
  {
   "cell_type": "markdown",
   "id": "0a3d7207",
   "metadata": {},
   "source": [
    "### Filter and Where"
   ]
  },
  {
   "cell_type": "code",
   "execution_count": 129,
   "id": "d1b67619",
   "metadata": {},
   "outputs": [
    {
     "data": {
      "text/plain": [
       "DataFrame[manufacturer: string, model: string, displ: double, year: bigint, cyl: bigint, trans: string, drv: string, cty: bigint, hwy: bigint, fl: string, class: string]"
      ]
     },
     "execution_count": 129,
     "metadata": {},
     "output_type": "execute_result"
    }
   ],
   "source": [
    "df = spark.createDataFrame(data('mpg'))\n",
    "df"
   ]
  },
  {
   "cell_type": "code",
   "execution_count": 130,
   "id": "7387beed",
   "metadata": {},
   "outputs": [
    {
     "name": "stdout",
     "output_type": "stream",
     "text": [
      "+------------+-----+-----+----+---+----------+---+---+---+---+-------+\n",
      "|manufacturer|model|displ|year|cyl|     trans|drv|cty|hwy| fl|  class|\n",
      "+------------+-----+-----+----+---+----------+---+---+---+---+-------+\n",
      "|        audi|   a4|  1.8|1999|  4|  auto(l5)|  f| 18| 29|  p|compact|\n",
      "|        audi|   a4|  1.8|1999|  4|manual(m5)|  f| 21| 29|  p|compact|\n",
      "|        audi|   a4|  2.0|2008|  4|manual(m6)|  f| 20| 31|  p|compact|\n",
      "|        audi|   a4|  2.0|2008|  4|  auto(av)|  f| 21| 30|  p|compact|\n",
      "|        audi|   a4|  2.8|1999|  6|  auto(l5)|  f| 16| 26|  p|compact|\n",
      "+------------+-----+-----+----+---+----------+---+---+---+---+-------+\n",
      "only showing top 5 rows\n",
      "\n"
     ]
    }
   ],
   "source": [
    "df.show(5)"
   ]
  },
  {
   "cell_type": "code",
   "execution_count": 138,
   "id": "aefe76e2",
   "metadata": {},
   "outputs": [
    {
     "name": "stdout",
     "output_type": "stream",
     "text": [
      "+------------+------+-----+----+---+----------+---+---+---+---+-------+\n",
      "|manufacturer| model|displ|year|cyl|     trans|drv|cty|hwy| fl|  class|\n",
      "+------------+------+-----+----+---+----------+---+---+---+---+-------+\n",
      "|   chevrolet|malibu|  2.4|1999|  4|  auto(l4)|  f| 19| 27|  r|midsize|\n",
      "|   chevrolet|malibu|  2.4|2008|  4|  auto(l4)|  f| 22| 30|  r|midsize|\n",
      "|     hyundai|sonata|  2.4|1999|  4|  auto(l4)|  f| 18| 26|  r|midsize|\n",
      "|     hyundai|sonata|  2.4|1999|  4|manual(m5)|  f| 18| 27|  r|midsize|\n",
      "|     hyundai|sonata|  2.4|2008|  4|  auto(l4)|  f| 21| 30|  r|midsize|\n",
      "|     hyundai|sonata|  2.4|2008|  4|manual(m5)|  f| 21| 31|  r|midsize|\n",
      "|      nissan|altima|  2.5|2008|  4|  auto(av)|  f| 23| 31|  r|midsize|\n",
      "|      nissan|altima|  2.5|2008|  4|manual(m6)|  f| 23| 32|  r|midsize|\n",
      "|      toyota| camry|  2.2|1999|  4|manual(m5)|  f| 21| 29|  r|midsize|\n",
      "|      toyota| camry|  2.2|1999|  4|  auto(l4)|  f| 21| 27|  r|midsize|\n",
      "|      toyota| camry|  2.4|2008|  4|manual(m5)|  f| 21| 31|  r|midsize|\n",
      "|      toyota| camry|  2.4|2008|  4|  auto(l5)|  f| 21| 31|  r|midsize|\n",
      "|  volkswagen|passat|  1.8|1999|  4|manual(m5)|  f| 21| 29|  p|midsize|\n",
      "|  volkswagen|passat|  1.8|1999|  4|  auto(l5)|  f| 18| 29|  p|midsize|\n",
      "|  volkswagen|passat|  2.0|2008|  4|  auto(s6)|  f| 19| 28|  p|midsize|\n",
      "|  volkswagen|passat|  2.0|2008|  4|manual(m6)|  f| 21| 29|  p|midsize|\n",
      "+------------+------+-----+----+---+----------+---+---+---+---+-------+\n",
      "\n"
     ]
    }
   ],
   "source": [
    "df.filter(df.cyl == 4).where(col('class') == 'midsize').show()"
   ]
  },
  {
   "cell_type": "markdown",
   "id": "4b5e8f8d",
   "metadata": {},
   "source": [
    "### When and Otherwise"
   ]
  },
  {
   "cell_type": "code",
   "execution_count": 139,
   "id": "7d59a9ec",
   "metadata": {},
   "outputs": [],
   "source": [
    "from pyspark.sql.functions import when"
   ]
  },
  {
   "cell_type": "code",
   "execution_count": 150,
   "id": "1bc4856a",
   "metadata": {},
   "outputs": [
    {
     "name": "stdout",
     "output_type": "stream",
     "text": [
      "+---+--------------+--------------+\n",
      "|hwy|good_bad_miles|good_bad_miles|\n",
      "+---+--------------+--------------+\n",
      "| 29|          good|          good|\n",
      "| 29|          good|          good|\n",
      "| 31|          good|          good|\n",
      "| 30|          good|          good|\n",
      "| 26|          null|        medium|\n",
      "| 26|          null|        medium|\n",
      "| 27|          null|        medium|\n",
      "| 26|          null|        medium|\n",
      "| 25|          null|           bad|\n",
      "| 28|          good|          good|\n",
      "+---+--------------+--------------+\n",
      "only showing top 10 rows\n",
      "\n"
     ]
    }
   ],
   "source": [
    "df.select(\n",
    "    df.hwy,\n",
    "    when(df.hwy > 27, 'good').alias('good_bad_miles'), #values are null when not in the when\n",
    "    when(df.hwy > 27, 'good').when(df.hwy > 25, 'medium').otherwise('bad').alias('good_bad_miles') #chain whens\n",
    ").show(10)"
   ]
  },
  {
   "cell_type": "markdown",
   "id": "38bf6d2b",
   "metadata": {},
   "source": [
    "### sorting and ordering"
   ]
  },
  {
   "cell_type": "code",
   "execution_count": 151,
   "id": "ddad266c",
   "metadata": {},
   "outputs": [
    {
     "name": "stdout",
     "output_type": "stream",
     "text": [
      "+------------+-----+-----+----+---+----------+---+---+---+---+-------+\n",
      "|manufacturer|model|displ|year|cyl|     trans|drv|cty|hwy| fl|  class|\n",
      "+------------+-----+-----+----+---+----------+---+---+---+---+-------+\n",
      "|        audi|   a4|  1.8|1999|  4|  auto(l5)|  f| 18| 29|  p|compact|\n",
      "|        audi|   a4|  1.8|1999|  4|manual(m5)|  f| 21| 29|  p|compact|\n",
      "|        audi|   a4|  2.0|2008|  4|manual(m6)|  f| 20| 31|  p|compact|\n",
      "|        audi|   a4|  2.0|2008|  4|  auto(av)|  f| 21| 30|  p|compact|\n",
      "|        audi|   a4|  2.8|1999|  6|  auto(l5)|  f| 16| 26|  p|compact|\n",
      "+------------+-----+-----+----+---+----------+---+---+---+---+-------+\n",
      "only showing top 5 rows\n",
      "\n"
     ]
    }
   ],
   "source": [
    "df.show(5)"
   ]
  },
  {
   "cell_type": "code",
   "execution_count": 153,
   "id": "56d98439",
   "metadata": {},
   "outputs": [
    {
     "name": "stderr",
     "output_type": "stream",
     "text": [
      "\r",
      "[Stage 161:>                                                      (0 + 10) / 10]\r"
     ]
    },
    {
     "name": "stdout",
     "output_type": "stream",
     "text": [
      "+------------+-------------------+-----+----+---+----------+---+---+---+---+------+\n",
      "|manufacturer|              model|displ|year|cyl|     trans|drv|cty|hwy| fl| class|\n",
      "+------------+-------------------+-----+----+---+----------+---+---+---+---+------+\n",
      "|       dodge|ram 1500 pickup 4wd|  4.7|2008|  8|  auto(l5)|  4|  9| 12|  e|pickup|\n",
      "|        jeep| grand cherokee 4wd|  4.7|2008|  8|  auto(l5)|  4|  9| 12|  e|   suv|\n",
      "|       dodge|        durango 4wd|  4.7|2008|  8|  auto(l5)|  4|  9| 12|  e|   suv|\n",
      "|       dodge|  dakota pickup 4wd|  4.7|2008|  8|  auto(l5)|  4|  9| 12|  e|pickup|\n",
      "|       dodge|ram 1500 pickup 4wd|  4.7|2008|  8|manual(m6)|  4|  9| 12|  e|pickup|\n",
      "+------------+-------------------+-----+----+---+----------+---+---+---+---+------+\n",
      "only showing top 5 rows\n",
      "\n"
     ]
    },
    {
     "name": "stderr",
     "output_type": "stream",
     "text": [
      "\r",
      "                                                                                \r"
     ]
    }
   ],
   "source": [
    "df.sort(df.cty).show(5)"
   ]
  },
  {
   "cell_type": "code",
   "execution_count": 154,
   "id": "f64ac525",
   "metadata": {},
   "outputs": [
    {
     "name": "stdout",
     "output_type": "stream",
     "text": [
      "+------------+----------+-----+----+---+----------+---+---+---+---+----------+\n",
      "|manufacturer|     model|displ|year|cyl|     trans|drv|cty|hwy| fl|     class|\n",
      "+------------+----------+-----+----+---+----------+---+---+---+---+----------+\n",
      "|  volkswagen|new beetle|  1.9|1999|  4|manual(m5)|  f| 35| 44|  d|subcompact|\n",
      "|  volkswagen|     jetta|  1.9|1999|  4|manual(m5)|  f| 33| 44|  d|   compact|\n",
      "|  volkswagen|new beetle|  1.9|1999|  4|  auto(l4)|  f| 29| 41|  d|subcompact|\n",
      "|      toyota|   corolla|  1.8|2008|  4|manual(m5)|  f| 28| 37|  r|   compact|\n",
      "|       honda|     civic|  1.6|1999|  4|manual(m5)|  f| 28| 33|  r|subcompact|\n",
      "+------------+----------+-----+----+---+----------+---+---+---+---+----------+\n",
      "only showing top 5 rows\n",
      "\n"
     ]
    }
   ],
   "source": [
    "df.sort(df.cty.desc()).show(5)"
   ]
  },
  {
   "cell_type": "code",
   "execution_count": 163,
   "id": "ba613de0",
   "metadata": {},
   "outputs": [
    {
     "data": {
      "text/plain": [
       "[Row(manufacturer='jeep', model='grand cherokee 4wd', displ=4.7, year=2008, cyl=8, trans='auto(l5)', drv='4', cty=9, hwy=12, fl='e', class='suv')]"
      ]
     },
     "execution_count": 163,
     "metadata": {},
     "output_type": "execute_result"
    }
   ],
   "source": [
    "df.sort(df.cty.desc(), df.year).tail(1)"
   ]
  },
  {
   "cell_type": "markdown",
   "id": "d13d22a8",
   "metadata": {},
   "source": [
    "### Grouping and Aggregating"
   ]
  },
  {
   "cell_type": "code",
   "execution_count": 164,
   "id": "cc56ae79",
   "metadata": {},
   "outputs": [
    {
     "data": {
      "text/plain": [
       "<pyspark.sql.group.GroupedData at 0x136e89b20>"
      ]
     },
     "execution_count": 164,
     "metadata": {},
     "output_type": "execute_result"
    }
   ],
   "source": [
    "#groupby/groupBy\n",
    "df.groupBy(df.cyl)"
   ]
  },
  {
   "cell_type": "code",
   "execution_count": 166,
   "id": "01e1aeec",
   "metadata": {},
   "outputs": [
    {
     "name": "stderr",
     "output_type": "stream",
     "text": [
      "\r",
      "[Stage 186:>                                                      (0 + 10) / 10]\r"
     ]
    },
    {
     "name": "stdout",
     "output_type": "stream",
     "text": [
      "+---+-----------------+\n",
      "|cyl|         avg(hwy)|\n",
      "+---+-----------------+\n",
      "|  6|22.82278481012658|\n",
      "|  8|17.62857142857143|\n",
      "|  4|28.80246913580247|\n",
      "|  5|            28.75|\n",
      "+---+-----------------+\n",
      "\n"
     ]
    },
    {
     "name": "stderr",
     "output_type": "stream",
     "text": [
      "\r",
      "                                                                                \r"
     ]
    }
   ],
   "source": [
    "df.groupBy(df.cyl).agg(mean(df.hwy)).show()"
   ]
  },
  {
   "cell_type": "code",
   "execution_count": 167,
   "id": "e34e527b",
   "metadata": {},
   "outputs": [
    {
     "name": "stderr",
     "output_type": "stream",
     "text": [
      "\r",
      "[Stage 189:>                                                      (0 + 10) / 10]\r"
     ]
    },
    {
     "name": "stdout",
     "output_type": "stream",
     "text": [
      "+---+-----------------+\n",
      "|cyl|         avg(hwy)|\n",
      "+---+-----------------+\n",
      "|  4|28.80246913580247|\n",
      "|  5|            28.75|\n",
      "|  6|22.82278481012658|\n",
      "|  8|17.62857142857143|\n",
      "+---+-----------------+\n",
      "\n"
     ]
    },
    {
     "name": "stderr",
     "output_type": "stream",
     "text": [
      "\r",
      "                                                                                \r"
     ]
    }
   ],
   "source": [
    "df.groupBy(df.cyl).agg(mean(df.hwy)).sort(df.cyl).show()"
   ]
  },
  {
   "cell_type": "code",
   "execution_count": 168,
   "id": "72a0b559",
   "metadata": {},
   "outputs": [
    {
     "name": "stderr",
     "output_type": "stream",
     "text": [
      "\r",
      "[Stage 192:>                                                      (0 + 10) / 10]\r"
     ]
    },
    {
     "name": "stdout",
     "output_type": "stream",
     "text": [
      "+----+-----------------+\n",
      "| cyl|         avg(hwy)|\n",
      "+----+-----------------+\n",
      "|   4|28.80246913580247|\n",
      "|null|23.44017094017094|\n",
      "|   6|22.82278481012658|\n",
      "|   8|17.62857142857143|\n",
      "|   5|            28.75|\n",
      "+----+-----------------+\n",
      "\n"
     ]
    },
    {
     "name": "stderr",
     "output_type": "stream",
     "text": [
      "\r",
      "                                                                                \r"
     ]
    }
   ],
   "source": [
    "#rollup\n",
    "df.rollup(df.cyl).agg(mean(df.hwy)).show()"
   ]
  },
  {
   "cell_type": "markdown",
   "id": "7db2320c",
   "metadata": {},
   "source": [
    "### Crosstabs and Pivot Tables"
   ]
  },
  {
   "cell_type": "code",
   "execution_count": 170,
   "id": "35825907",
   "metadata": {},
   "outputs": [
    {
     "name": "stderr",
     "output_type": "stream",
     "text": [
      "                                                                                \r"
     ]
    },
    {
     "name": "stdout",
     "output_type": "stream",
     "text": [
      "+----------+---+---+---+---+\n",
      "| class_cyl|  4|  5|  6|  8|\n",
      "+----------+---+---+---+---+\n",
      "|   midsize| 16|  0| 23|  2|\n",
      "|subcompact| 21|  2|  7|  5|\n",
      "|   2seater|  0|  0|  0|  5|\n",
      "|    pickup|  3|  0| 10| 20|\n",
      "|   minivan|  1|  0| 10|  0|\n",
      "|       suv|  8|  0| 16| 38|\n",
      "|   compact| 32|  2| 13|  0|\n",
      "+----------+---+---+---+---+\n",
      "\n"
     ]
    }
   ],
   "source": [
    "#crosstab\n",
    "df.crosstab('class', 'cyl').show()"
   ]
  },
  {
   "cell_type": "code",
   "execution_count": 171,
   "id": "34ad0409",
   "metadata": {},
   "outputs": [
    {
     "name": "stderr",
     "output_type": "stream",
     "text": [
      "[Stage 211:>                                                        (0 + 1) / 1]\r"
     ]
    },
    {
     "name": "stdout",
     "output_type": "stream",
     "text": [
      "+----------+------------------+----+------------------+------------------+\n",
      "|     class|                 4|   5|                 6|                 8|\n",
      "+----------+------------------+----+------------------+------------------+\n",
      "|subcompact| 30.80952380952381|28.5|24.714285714285715|              21.6|\n",
      "|   compact|          29.46875|29.0|25.307692307692307|              null|\n",
      "|   minivan|              24.0|null|              22.2|              null|\n",
      "|       suv|             23.75|null|              18.5|16.789473684210527|\n",
      "|   midsize|           29.1875|null| 26.26086956521739|              24.0|\n",
      "|    pickup|20.666666666666668|null|              17.9|              15.8|\n",
      "|   2seater|              null|null|              null|              24.8|\n",
      "+----------+------------------+----+------------------+------------------+\n",
      "\n"
     ]
    },
    {
     "name": "stderr",
     "output_type": "stream",
     "text": [
      "\r",
      "                                                                                \r"
     ]
    }
   ],
   "source": [
    "#groupby and pivot\n",
    "df.groupby('class').pivot('cyl').mean('hwy').show()"
   ]
  },
  {
   "cell_type": "markdown",
   "id": "a378581e",
   "metadata": {},
   "source": [
    "### Handling Missing Data"
   ]
  },
  {
   "cell_type": "markdown",
   "id": "b80e3a44",
   "metadata": {},
   "source": [
    "- `.na.fill`: to replace missing values with a specified value\n",
    "- `.na.drop`: to drop rows containing missing values"
   ]
  },
  {
   "cell_type": "code",
   "execution_count": 172,
   "id": "fcce7829",
   "metadata": {},
   "outputs": [
    {
     "name": "stdout",
     "output_type": "stream",
     "text": [
      "+---+---+\n",
      "|  x|  y|\n",
      "+---+---+\n",
      "|1.0|NaN|\n",
      "|2.0|0.0|\n",
      "|NaN|0.0|\n",
      "|4.0|3.0|\n",
      "|5.0|1.0|\n",
      "|NaN|NaN|\n",
      "+---+---+\n",
      "\n"
     ]
    }
   ],
   "source": [
    "df = spark.createDataFrame(\n",
    "    pd.DataFrame(\n",
    "        {\"x\": [1, 2, np.nan, 4, 5, np.nan], \"y\": [np.nan, 0, 0, 3, 1, np.nan]}\n",
    "    )\n",
    ")\n",
    "df.show()"
   ]
  },
  {
   "cell_type": "code",
   "execution_count": 173,
   "id": "eb896942",
   "metadata": {},
   "outputs": [
    {
     "name": "stdout",
     "output_type": "stream",
     "text": [
      "+---+---+\n",
      "|  x|  y|\n",
      "+---+---+\n",
      "|2.0|0.0|\n",
      "|4.0|3.0|\n",
      "|5.0|1.0|\n",
      "+---+---+\n",
      "\n"
     ]
    }
   ],
   "source": [
    "df.na.drop().show()"
   ]
  },
  {
   "cell_type": "code",
   "execution_count": 177,
   "id": "c29c14e1",
   "metadata": {},
   "outputs": [
    {
     "name": "stdout",
     "output_type": "stream",
     "text": [
      "+---+---+\n",
      "|  x|  y|\n",
      "+---+---+\n",
      "|1.0|NaN|\n",
      "|2.0|0.0|\n",
      "|4.0|3.0|\n",
      "|5.0|1.0|\n",
      "+---+---+\n",
      "\n"
     ]
    }
   ],
   "source": [
    "df.na.drop(subset='x').show()"
   ]
  },
  {
   "cell_type": "code",
   "execution_count": 180,
   "id": "9afdb081",
   "metadata": {},
   "outputs": [
    {
     "name": "stdout",
     "output_type": "stream",
     "text": [
      "+-----+-----+\n",
      "|    x|    y|\n",
      "+-----+-----+\n",
      "|  1.0|100.0|\n",
      "|  2.0|  0.0|\n",
      "|100.0|  0.0|\n",
      "|  4.0|  3.0|\n",
      "|  5.0|  1.0|\n",
      "|100.0|100.0|\n",
      "+-----+-----+\n",
      "\n"
     ]
    }
   ],
   "source": [
    "df.na.fill(100).show()"
   ]
  },
  {
   "cell_type": "code",
   "execution_count": 182,
   "id": "c5155a13",
   "metadata": {},
   "outputs": [
    {
     "name": "stdout",
     "output_type": "stream",
     "text": [
      "+----+-----+\n",
      "|   x|    y|\n",
      "+----+-----+\n",
      "| 1.0|100.0|\n",
      "| 2.0|  0.0|\n",
      "|-5.0|  0.0|\n",
      "| 4.0|  3.0|\n",
      "| 5.0|  1.0|\n",
      "|-5.0|100.0|\n",
      "+----+-----+\n",
      "\n"
     ]
    }
   ],
   "source": [
    "df.na.fill(100, subset='y').na.fill(-5, subset='x').show()"
   ]
  },
  {
   "cell_type": "markdown",
   "id": "2ecd9a30",
   "metadata": {},
   "source": [
    "### More Dataframe Manipulation Examples"
   ]
  },
  {
   "cell_type": "code",
   "execution_count": 183,
   "id": "3d050437",
   "metadata": {},
   "outputs": [
    {
     "name": "stdout",
     "output_type": "stream",
     "text": [
      "+----------+-------------+--------+--------+----+-------+\n",
      "|      date|precipitation|temp_max|temp_min|wind|weather|\n",
      "+----------+-------------+--------+--------+----+-------+\n",
      "|2012-01-01|          0.0|    12.8|     5.0| 4.7|drizzle|\n",
      "|2012-01-02|         10.9|    10.6|     2.8| 4.5|   rain|\n",
      "|2012-01-03|          0.8|    11.7|     7.2| 2.3|   rain|\n",
      "|2012-01-04|         20.3|    12.2|     5.6| 4.7|   rain|\n",
      "|2012-01-05|          1.3|     8.9|     2.8| 6.1|   rain|\n",
      "|2012-01-06|          2.5|     4.4|     2.2| 2.2|   rain|\n",
      "+----------+-------------+--------+--------+----+-------+\n",
      "only showing top 6 rows\n",
      "\n"
     ]
    }
   ],
   "source": [
    "from vega_datasets import data\n",
    "\n",
    "weather = data.seattle_weather().assign(date=lambda df: df.date.astype(str))\n",
    "df = spark.createDataFrame(weather)\n",
    "df.show(6)"
   ]
  },
  {
   "cell_type": "markdown",
   "id": "00f8f3b1",
   "metadata": {},
   "source": [
    "#### shape of df"
   ]
  },
  {
   "cell_type": "code",
   "execution_count": 184,
   "id": "8c783bbc",
   "metadata": {},
   "outputs": [
    {
     "data": {
      "text/plain": [
       "(1461, 6)"
      ]
     },
     "execution_count": 184,
     "metadata": {},
     "output_type": "execute_result"
    }
   ],
   "source": [
    "df.count(), len(df.columns)"
   ]
  },
  {
   "cell_type": "markdown",
   "id": "c4c20802",
   "metadata": {},
   "source": [
    "#### start and end date"
   ]
  },
  {
   "cell_type": "code",
   "execution_count": 186,
   "id": "d05e1bfe",
   "metadata": {},
   "outputs": [
    {
     "name": "stdout",
     "output_type": "stream",
     "text": [
      "+----------+----------+\n",
      "| min(date)| max(date)|\n",
      "+----------+----------+\n",
      "|2012-01-01|2015-12-31|\n",
      "+----------+----------+\n",
      "\n"
     ]
    }
   ],
   "source": [
    "df.select(\n",
    "    min(df.date), max(df.date)\n",
    ").show()"
   ]
  },
  {
   "cell_type": "markdown",
   "id": "ad8f50a5",
   "metadata": {},
   "source": [
    "#### Find the total rainfall per month"
   ]
  },
  {
   "cell_type": "code",
   "execution_count": 202,
   "id": "e36ed35d",
   "metadata": {},
   "outputs": [],
   "source": [
    "from pyspark.sql.functions import month, year, quarter, round"
   ]
  },
  {
   "cell_type": "code",
   "execution_count": 209,
   "id": "6b16f10e",
   "metadata": {},
   "outputs": [
    {
     "name": "stdout",
     "output_type": "stream",
     "text": [
      "+--------+----------+\n",
      "|themonth|total_rain|\n",
      "+--------+----------+\n",
      "|       1|     466.0|\n",
      "|       2|     422.0|\n",
      "|       3|     606.0|\n",
      "|       4|     375.0|\n",
      "|       5|     208.0|\n",
      "|       6|     133.0|\n",
      "|       7|      48.0|\n",
      "|       8|     164.0|\n",
      "|       9|     235.0|\n",
      "|      10|     503.0|\n",
      "|      11|     643.0|\n",
      "|      12|     623.0|\n",
      "+--------+----------+\n",
      "\n"
     ]
    }
   ],
   "source": [
    "(\n",
    "    df.withColumn('themonth', month('date'))\n",
    "    .groupby('themonth')\n",
    "    .agg(round(sum('precipitation')).alias('total_rain'))\n",
    "    .sort('themonth')\n",
    ").show()"
   ]
  },
  {
   "cell_type": "markdown",
   "id": "659580d8",
   "metadata": {},
   "source": [
    "### Joins"
   ]
  },
  {
   "cell_type": "code",
   "execution_count": 210,
   "id": "2613300e",
   "metadata": {},
   "outputs": [
    {
     "name": "stdout",
     "output_type": "stream",
     "text": [
      "--- users ---\n",
      "+---+-----+-------+\n",
      "| id| name|role_id|\n",
      "+---+-----+-------+\n",
      "|  1|  bob|    1.0|\n",
      "|  2|  joe|    2.0|\n",
      "|  3|sally|    3.0|\n",
      "|  4| adam|    3.0|\n",
      "|  5| jane|    NaN|\n",
      "|  6| mike|    NaN|\n",
      "+---+-----+-------+\n",
      "\n",
      "--- roles ---\n",
      "+---+---------+\n",
      "| id|     name|\n",
      "+---+---------+\n",
      "|  1|    admin|\n",
      "|  2|   author|\n",
      "|  3| reviewer|\n",
      "|  4|commenter|\n",
      "+---+---------+\n",
      "\n"
     ]
    }
   ],
   "source": [
    "users = spark.createDataFrame(\n",
    "    pd.DataFrame(\n",
    "        {\n",
    "            \"id\": [1, 2, 3, 4, 5, 6],\n",
    "            \"name\": [\"bob\", \"joe\", \"sally\", \"adam\", \"jane\", \"mike\"],\n",
    "            \"role_id\": [1, 2, 3, 3, np.nan, np.nan],\n",
    "        }\n",
    "    )\n",
    ")\n",
    "roles = spark.createDataFrame(\n",
    "    pd.DataFrame(\n",
    "        {\n",
    "            \"id\": [1, 2, 3, 4],\n",
    "            \"name\": [\"admin\", \"author\", \"reviewer\", \"commenter\"],\n",
    "        }\n",
    "    )\n",
    ")\n",
    "print(\"--- users ---\")\n",
    "users.show()\n",
    "print(\"--- roles ---\")\n",
    "roles.show()"
   ]
  },
  {
   "cell_type": "code",
   "execution_count": 211,
   "id": "e348be99",
   "metadata": {},
   "outputs": [
    {
     "name": "stderr",
     "output_type": "stream",
     "text": [
      "                                                                                \r"
     ]
    },
    {
     "name": "stdout",
     "output_type": "stream",
     "text": [
      "+---+-----+-------+---+--------+\n",
      "| id| name|role_id| id|    name|\n",
      "+---+-----+-------+---+--------+\n",
      "|  1|  bob|    1.0|  1|   admin|\n",
      "|  2|  joe|    2.0|  2|  author|\n",
      "|  3|sally|    3.0|  3|reviewer|\n",
      "|  4| adam|    3.0|  3|reviewer|\n",
      "+---+-----+-------+---+--------+\n",
      "\n"
     ]
    }
   ],
   "source": [
    "users.join(roles, on= users.role_id == roles.id).show()"
   ]
  },
  {
   "cell_type": "code",
   "execution_count": 212,
   "id": "eb9c8220",
   "metadata": {},
   "outputs": [
    {
     "name": "stderr",
     "output_type": "stream",
     "text": [
      "\r",
      "[Stage 295:>                                                      (0 + 10) / 10]\r"
     ]
    },
    {
     "name": "stdout",
     "output_type": "stream",
     "text": [
      "+---+-----+-------+----+--------+\n",
      "| id| name|role_id|  id|    name|\n",
      "+---+-----+-------+----+--------+\n",
      "|  1|  bob|    1.0|   1|   admin|\n",
      "|  2|  joe|    2.0|   2|  author|\n",
      "|  3|sally|    3.0|   3|reviewer|\n",
      "|  4| adam|    3.0|   3|reviewer|\n",
      "|  5| jane|    NaN|null|    null|\n",
      "|  6| mike|    NaN|null|    null|\n",
      "+---+-----+-------+----+--------+\n",
      "\n"
     ]
    },
    {
     "name": "stderr",
     "output_type": "stream",
     "text": [
      "\r",
      "                                                                                \r"
     ]
    }
   ],
   "source": [
    "users.join(roles, on= users.role_id == roles.id, how='left').show()"
   ]
  },
  {
   "cell_type": "code",
   "execution_count": 213,
   "id": "b0cb7278",
   "metadata": {},
   "outputs": [
    {
     "name": "stderr",
     "output_type": "stream",
     "text": [
      "                                                                                \r"
     ]
    },
    {
     "name": "stdout",
     "output_type": "stream",
     "text": [
      "+----+-----+-------+---+---------+\n",
      "|  id| name|role_id| id|     name|\n",
      "+----+-----+-------+---+---------+\n",
      "|   1|  bob|    1.0|  1|    admin|\n",
      "|   2|  joe|    2.0|  2|   author|\n",
      "|   4| adam|    3.0|  3| reviewer|\n",
      "|   3|sally|    3.0|  3| reviewer|\n",
      "|null| null|   null|  4|commenter|\n",
      "+----+-----+-------+---+---------+\n",
      "\n"
     ]
    }
   ],
   "source": [
    "users.join(roles, on= users.role_id == roles.id, how='right').show()"
   ]
  },
  {
   "cell_type": "code",
   "execution_count": 216,
   "id": "7f6e96b7",
   "metadata": {},
   "outputs": [
    {
     "data": {
      "text/html": [
       "<div>\n",
       "<style scoped>\n",
       "    .dataframe tbody tr th:only-of-type {\n",
       "        vertical-align: middle;\n",
       "    }\n",
       "\n",
       "    .dataframe tbody tr th {\n",
       "        vertical-align: top;\n",
       "    }\n",
       "\n",
       "    .dataframe thead th {\n",
       "        text-align: right;\n",
       "    }\n",
       "</style>\n",
       "<table border=\"1\" class=\"dataframe\">\n",
       "  <thead>\n",
       "    <tr style=\"text-align: right;\">\n",
       "      <th></th>\n",
       "      <th>id</th>\n",
       "      <th>name</th>\n",
       "      <th>role_id</th>\n",
       "    </tr>\n",
       "  </thead>\n",
       "  <tbody>\n",
       "    <tr>\n",
       "      <th>0</th>\n",
       "      <td>1</td>\n",
       "      <td>bob</td>\n",
       "      <td>1.0</td>\n",
       "    </tr>\n",
       "    <tr>\n",
       "      <th>1</th>\n",
       "      <td>2</td>\n",
       "      <td>joe</td>\n",
       "      <td>2.0</td>\n",
       "    </tr>\n",
       "    <tr>\n",
       "      <th>2</th>\n",
       "      <td>3</td>\n",
       "      <td>sally</td>\n",
       "      <td>3.0</td>\n",
       "    </tr>\n",
       "    <tr>\n",
       "      <th>3</th>\n",
       "      <td>4</td>\n",
       "      <td>adam</td>\n",
       "      <td>3.0</td>\n",
       "    </tr>\n",
       "    <tr>\n",
       "      <th>4</th>\n",
       "      <td>5</td>\n",
       "      <td>jane</td>\n",
       "      <td>NaN</td>\n",
       "    </tr>\n",
       "    <tr>\n",
       "      <th>5</th>\n",
       "      <td>6</td>\n",
       "      <td>mike</td>\n",
       "      <td>NaN</td>\n",
       "    </tr>\n",
       "  </tbody>\n",
       "</table>\n",
       "</div>"
      ],
      "text/plain": [
       "   id   name  role_id\n",
       "0   1    bob      1.0\n",
       "1   2    joe      2.0\n",
       "2   3  sally      3.0\n",
       "3   4   adam      3.0\n",
       "4   5   jane      NaN\n",
       "5   6   mike      NaN"
      ]
     },
     "execution_count": 216,
     "metadata": {},
     "output_type": "execute_result"
    }
   ],
   "source": [
    "users.toPandas()"
   ]
  },
  {
   "cell_type": "code",
   "execution_count": null,
   "id": "69871752",
   "metadata": {},
   "outputs": [],
   "source": []
  }
 ],
 "metadata": {
  "kernelspec": {
   "display_name": "Python 3 (ipykernel)",
   "language": "python",
   "name": "python3"
  },
  "language_info": {
   "codemirror_mode": {
    "name": "ipython",
    "version": 3
   },
   "file_extension": ".py",
   "mimetype": "text/x-python",
   "name": "python",
   "nbconvert_exporter": "python",
   "pygments_lexer": "ipython3",
   "version": "3.9.12"
  }
 },
 "nbformat": 4,
 "nbformat_minor": 5
}
